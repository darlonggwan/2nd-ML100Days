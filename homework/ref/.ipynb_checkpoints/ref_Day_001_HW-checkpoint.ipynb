{
 "cells": [
  {
   "cell_type": "markdown",
   "metadata": {},
   "source": [
    "# 作業1：\n",
    "\n",
    "## 請上 Kaggle, 在 Competitions 或 Dataset 中找一組競賽或資料並寫下：\n",
    "1. 你選的這組資料為何重要\n",
    "2. 資料從何而來 (tips: 譬如提供者是誰、以什麼方式蒐集)\n",
    "3. 蒐集而來的資料型態為何\n",
    "4. 這組資料想解決的問題如何評估\n",
    "\n",
    "## 回答：\n",
    "選擇的資料為：Kepler Exoplanet Search Results [\\[1\\]][1]\n",
    "1. Google 利用該組資料發現了兩顆系外行星 [\\[2\\]][2][\\[3\\]][3]，使用之程式碼也已開源 [\\[4\\]][4]。\n",
    "2. 該組資料來源為美國太空總署利用 2009 時所發射的克卜勒太空望遠鏡觀測蒐集得來。較新的原始資料也已供下載 [\\[5\\]][5]。\n",
    "3. 結構化資料 [\\[6\\]][6]。\n",
    "4. 此為分類性問題，衡量指標為正確率。\n",
    "\n",
    "[1]:https://www.kaggle.com/nasa/kepler-exoplanet-search-results\n",
    "[2]:https://technews.tw/2018/03/14/google-is-open-source-machine-learning-algorithm-for-exoplanets-with-kepler-data/\n",
    "[3]:https://ai.googleblog.com/2018/03/open-sourcing-hunt-for-exoplanets.html\n",
    "[4]:https://github.com/google-research/exoplanet-ml\n",
    "[5]:https://exoplanetarchive.ipac.caltech.edu/cgi-bin/TblView/nph-tblView?app=ExoTbls&config=q1_q17_dr25_tce\n",
    "[6]:https://exoplanetarchive.ipac.caltech.edu/docs/Kepler_TCE_docs.html (欄位定義)"
   ]
  },
  {
   "cell_type": "markdown",
   "metadata": {},
   "source": [
    "# 作業2：\n",
    "\n",
    "## 想像你經營一個自由載客車隊，你希望能透過數據分析以提升業績，請你思考並描述你如何規劃整體的分析/解決方案：\n",
    "1. 核心問題為何 (tips：如何定義 「提升業績 & 你的假設」)\n",
    "2. 資料從何而來 (tips：哪些資料可能會對你想問的問題產生影響 & 資料如何蒐集)\n",
    "3. 蒐集而來的資料型態為何\n",
    "4. 你要回答的問題，其如何評估 (tips：你的假設如何驗證)\n",
    "\n",
    "## 回答：\n",
    "1. 搜尋相關研究，找出和業績相關的因素 [\\[7\\]][7][\\[8\\]][8]。故將提升業績定義為降低車輛閒置率，假設降低閒置率就能夠提升業績。\n",
    "2. 記錄每次載客的等候時間、運輸時間、路徑（GPS 數據）及收入等數據作為對照組，並在實驗組導入 Google Maps Platform [\\[9\\]][9] 取得即時路況以及最佳化的載客路徑。甚至也可以更進一步蒐集車內影像作為後續人臉辨識用途（例如：司機的疲累程度）。\n",
    "3. 結構化資料（GPS、載客時間）及非結構化資料（車內影像)。\n",
    "4. 將對照組與實驗組的業績進行比對即可驗證。此問題為回歸問題，可以使用 MSE/MAE 計算出預測收入與實際收入之誤差。\n",
    "\n",
    "[7]:http://review.management.ntu.edu.tw/vol_file.aspx?lang=cht&fid=F104-004\n",
    "[8]:http://ijcs.topco-global.com/WebSite/Articles/1.%E4%BB%A5%E7%B3%BB%E7%B5%B1%E6%80%9D%E8%80%83%E8%A7%80%E9%BB%9E%E6%8E%A2%E8%A8%8E%E5%8F%B0%E7%81%A3%E5%A4%A7%E8%BB%8A%E9%9A%8A%E7%B6%93%E7%87%9F%E6%A8%A1%E5%BC%8F%E4%B9%8B%E7%A0%94%E7%A9%B6.pdf\n",
    "[9]:https://cloud.google.com/maps-platform/routes/?hl=zh-tw\n"
   ]
  },
  {
   "cell_type": "markdown",
   "metadata": {},
   "source": [
    "# 作業 3：\n",
    "## 練習時間\n",
    "#### 請寫一個函式用來計算 Mean Square Error\n",
    "$ MSE = \\frac{1}{n}\\sum_{i=1}^{n}{(Y_i - \\hat{Y}_i)^2} $\n",
    "\n",
    "### Hint: [如何取平方](https://googoodesign.gitbooks.io/-ezpython/unit-1.html)"
   ]
  },
  {
   "cell_type": "code",
   "execution_count": 44,
   "metadata": {},
   "outputs": [],
   "source": [
    "import numpy as np\n",
    "import matplotlib.pyplot as plt\n",
    "\n",
    "# Import MSE func from sklearn for vertification\n",
    "from sklearn.metrics import mean_squared_error"
   ]
  },
  {
   "cell_type": "code",
   "execution_count": 45,
   "metadata": {},
   "outputs": [],
   "source": [
    "def mean_absolute_error(y, yp):\n",
    "    \"\"\"\n",
    "    由範例程式取得之計算 MAE 函式\n",
    "    Args:\n",
    "        - y: 實際值\n",
    "        - yp: 預測值\n",
    "    Return:\n",
    "        - mae: MAE\n",
    "    \"\"\"\n",
    "    mae = MAE = sum(abs(y - yp)) / len(y)\n",
    "    return mae"
   ]
  },
  {
   "cell_type": "code",
   "execution_count": 46,
   "metadata": {},
   "outputs": [],
   "source": [
    "def mean_squared_error(y, yp):\n",
    "    \"\"\"\n",
    "    作業撰寫之 MSE 函式\n",
    "    Definition: https://en.wikipedia.org/wiki/Mean_squared_error\n",
    "    Args:\n",
    "        - y: 實際值 (List)\n",
    "        - yp: 預測值 (List)\n",
    "    Return:\n",
    "        - mse: mse\n",
    "    \"\"\"\n",
    "    mse = sum((y - yp) ** 2) / len(y)\n",
    "    return mse"
   ]
  },
  {
   "cell_type": "code",
   "execution_count": 47,
   "metadata": {},
   "outputs": [
    {
     "data": {
      "image/png": "[encoded data removed]",
      "text/plain": [
       "<Figure size 432x288 with 1 Axes>"
      ]
     },
     "metadata": {
      "needs_background": "light"
     },
     "output_type": "display_data"
    }
   ],
   "source": [
    "w = 3\n",
    "b = 0.5\n",
    "\n",
    "'''\n",
    "numpy.linspace: \n",
    "numpy.linspace(start, stop, num=50, endpoint=True, retstep=False, dtype=None, axis=0)\n",
    "Return evenly spaced numbers over a specified interval.\n",
    "'''\n",
    "x_lin = np.linspace(0, 100, 101)\n",
    "\n",
    "'''\n",
    "numpy.random.randn(d0, d1, ..., dn)\n",
    "Return a sample (or samples) from the “standard normal” distribution.\n",
    "d0, d1, …, dn : int, optional: The dimensions of the returned array\n",
    "'''\n",
    "y = (x_lin + np.random.randn(101) * 5) * w + b\n",
    "\n",
    "'''\n",
    "b. means blue point marker\n",
    "'''\n",
    "plt.plot(x_lin, y, 'b.', label = 'data points')\n",
    "plt.title(\"Assume we have data points\")\n",
    "plt.legend(loc = 2)\n",
    "plt.show()"
   ]
  },
  {
   "cell_type": "code",
   "execution_count": 48,
   "metadata": {},
   "outputs": [
    {
     "data": {
      "image/png": "[encoded data removed]",
      "text/plain": [
       "<Figure size 432x288 with 1 Axes>"
      ]
     },
     "metadata": {
      "needs_background": "light"
     },
     "output_type": "display_data"
    }
   ],
   "source": [
    "y_hat = x_lin * w + b\n",
    "\n",
    "plt.plot(x_lin, y, 'b.', label = 'data')\n",
    "\n",
    "'''\n",
    "r- means red solid line style\n",
    "loc=2 means put legend to upper left\n",
    "''' \n",
    "plt.plot(x_lin, y_hat, 'r-', label = 'prediction')\n",
    "plt.title(\"Assume we have data points (And the prediction)\")\n",
    "plt.legend(loc = 2)\n",
    "plt.show()"
   ]
  },
  {
   "cell_type": "code",
   "execution_count": 49,
   "metadata": {},
   "outputs": [
    {
     "name": "stdout",
     "output_type": "stream",
     "text": [
      "The Mean squared error is 222.837\n",
      "The Mean absolute error is 11.599\n",
      "The Mean absolute error is 222.837\n"
     ]
    }
   ],
   "source": [
    "# 執行 Function, 確認有沒有正常執行\n",
    "MSE = mean_squared_error(y, y_hat)\n",
    "MAE = mean_absolute_error(y, y_hat)\n",
    "print(\"The Mean squared error is %.3f\" % (MSE))\n",
    "print(\"The Mean absolute error is %.3f\" % (MAE))\n",
    "print(\"The Mean absolute error is {:.3f}\".format(mean_squared_error(y, y_hat)))"
   ]
  },
  {
   "cell_type": "code",
   "execution_count": null,
   "metadata": {},
   "outputs": [],
   "source": []
  }
 ],
 "metadata": {
  "anaconda-cloud": {},
  "kernelspec": {
   "display_name": "Python 3",
   "language": "python",
   "name": "python3"
  },
  "language_info": {
   "codemirror_mode": {
    "name": "ipython",
    "version": 3
   },
   "file_extension": ".py",
   "mimetype": "text/x-python",
   "name": "python",
   "nbconvert_exporter": "python",
   "pygments_lexer": "ipython3",
   "version": "3.7.1"
  }
 },
 "nbformat": 4,
 "nbformat_minor": 1
}
